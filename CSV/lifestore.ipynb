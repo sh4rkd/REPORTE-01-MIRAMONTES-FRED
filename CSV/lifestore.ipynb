{
  "nbformat": 4,
  "nbformat_minor": 0,
  "metadata": {
    "colab": {
      "name": "lifestore.ipynb",
      "provenance": [],
      "authorship_tag": "ABX9TyOLzZvGRXEdFip973e279aZ",
      "include_colab_link": true
    },
    "kernelspec": {
      "name": "python3",
      "display_name": "Python 3"
    },
    "language_info": {
      "name": "python"
    }
  },
  "cells": [
    {
      "cell_type": "markdown",
      "metadata": {
        "id": "view-in-github",
        "colab_type": "text"
      },
      "source": [
        "<a href=\"https://colab.research.google.com/github/sh4rkd/REPORTE-01-MIRAMONTES-FRED/blob/main/CSV/lifestore.ipynb\" target=\"_parent\"><img src=\"https://colab.research.google.com/assets/colab-badge.svg\" alt=\"Open In Colab\"/></a>"
      ]
    },
    {
      "cell_type": "markdown",
      "metadata": {
        "id": "sHfTfR78vTk8"
      },
      "source": [
        "Importamos la libreria de pandas el cual contiene metodos que nos serviran para la creación de los datas frames y exportacion de la misma y lifestore que contiene la lista con los datos que convertiremos a dataframes"
      ]
    },
    {
      "cell_type": "code",
      "metadata": {
        "id": "spXx3Q8bjNLn"
      },
      "source": [
        "import lifestore_file\n",
        "import pandas as pd"
      ],
      "execution_count": 53,
      "outputs": []
    },
    {
      "cell_type": "markdown",
      "metadata": {
        "id": "BgOyJ32BvojE"
      },
      "source": [
        "con pandas llamamos el metodo DataFrame el cual recibira como parametro cada una de las listas products, sales y searches"
      ]
    },
    {
      "cell_type": "code",
      "metadata": {
        "id": "nRWa_k80u0hi"
      },
      "source": [
        "df_lifestore_products = pd.DataFrame(lifestore_file.lifestore_products)\n",
        "\n",
        "df_lifestore_sales = pd.DataFrame(lifestore_file.lifestore_sales)\n",
        "\n",
        "df_lifestore_searches = pd.DataFrame(lifestore_file.lifestore_searches)"
      ],
      "execution_count": 54,
      "outputs": []
    },
    {
      "cell_type": "markdown",
      "metadata": {
        "id": "5AmlWQt4v7Wb"
      },
      "source": [
        "Renombraremos las columnas por los nombres que podemos observar en los comentarios de lifestore_file.py para cada dataframe con su respectivo nombre"
      ]
    },
    {
      "cell_type": "code",
      "metadata": {
        "id": "tX_jOvK2u8xE"
      },
      "source": [
        "df_lifestore_products.columns = [\"id_product\", \"name\", \"price\", \"category\", \"stock\"]\n",
        "\n",
        "df_lifestore_sales.columns = [\"id_sale\", \"id_product\", \"score\", \"date\", \"refund\"]\n",
        "\n",
        "df_lifestore_searches.columns = [\"id_search\", \"id product\"]"
      ],
      "execution_count": 56,
      "outputs": []
    },
    {
      "cell_type": "markdown",
      "metadata": {
        "id": "hG8buIyjwhUU"
      },
      "source": [
        "hacemos un setter del index para definir el index dependiendo de la lista de products, sales y searches"
      ]
    },
    {
      "cell_type": "code",
      "metadata": {
        "colab": {
          "base_uri": "https://localhost:8080/",
          "height": 450
        },
        "id": "ifml_puIvDl7",
        "outputId": "e3cf85da-3e1f-4d8d-94ae-4da2e452c621"
      },
      "source": [
        "df_lifestore_products.set_index(\"id_product\")\n",
        "\n",
        "df_lifestore_sales.set_index(\"id_sale\")\n",
        "\n",
        "df_lifestore_searches.set_index(\"id_search\")"
      ],
      "execution_count": 57,
      "outputs": [
        {
          "output_type": "execute_result",
          "data": {
            "text/html": [
              "<div>\n",
              "<style scoped>\n",
              "    .dataframe tbody tr th:only-of-type {\n",
              "        vertical-align: middle;\n",
              "    }\n",
              "\n",
              "    .dataframe tbody tr th {\n",
              "        vertical-align: top;\n",
              "    }\n",
              "\n",
              "    .dataframe thead th {\n",
              "        text-align: right;\n",
              "    }\n",
              "</style>\n",
              "<table border=\"1\" class=\"dataframe\">\n",
              "  <thead>\n",
              "    <tr style=\"text-align: right;\">\n",
              "      <th></th>\n",
              "      <th>id product</th>\n",
              "    </tr>\n",
              "    <tr>\n",
              "      <th>id_search</th>\n",
              "      <th></th>\n",
              "    </tr>\n",
              "  </thead>\n",
              "  <tbody>\n",
              "    <tr>\n",
              "      <th>1</th>\n",
              "      <td>1</td>\n",
              "    </tr>\n",
              "    <tr>\n",
              "      <th>2</th>\n",
              "      <td>1</td>\n",
              "    </tr>\n",
              "    <tr>\n",
              "      <th>3</th>\n",
              "      <td>1</td>\n",
              "    </tr>\n",
              "    <tr>\n",
              "      <th>4</th>\n",
              "      <td>1</td>\n",
              "    </tr>\n",
              "    <tr>\n",
              "      <th>5</th>\n",
              "      <td>1</td>\n",
              "    </tr>\n",
              "    <tr>\n",
              "      <th>...</th>\n",
              "      <td>...</td>\n",
              "    </tr>\n",
              "    <tr>\n",
              "      <th>1029</th>\n",
              "      <td>94</td>\n",
              "    </tr>\n",
              "    <tr>\n",
              "      <th>1030</th>\n",
              "      <td>94</td>\n",
              "    </tr>\n",
              "    <tr>\n",
              "      <th>1031</th>\n",
              "      <td>95</td>\n",
              "    </tr>\n",
              "    <tr>\n",
              "      <th>1032</th>\n",
              "      <td>95</td>\n",
              "    </tr>\n",
              "    <tr>\n",
              "      <th>1033</th>\n",
              "      <td>95</td>\n",
              "    </tr>\n",
              "  </tbody>\n",
              "</table>\n",
              "<p>1033 rows × 1 columns</p>\n",
              "</div>"
            ],
            "text/plain": [
              "           id product\n",
              "id_search            \n",
              "1                   1\n",
              "2                   1\n",
              "3                   1\n",
              "4                   1\n",
              "5                   1\n",
              "...               ...\n",
              "1029               94\n",
              "1030               94\n",
              "1031               95\n",
              "1032               95\n",
              "1033               95\n",
              "\n",
              "[1033 rows x 1 columns]"
            ]
          },
          "metadata": {},
          "execution_count": 57
        }
      ]
    },
    {
      "cell_type": "markdown",
      "metadata": {
        "id": "F_mvPtWqwxqr"
      },
      "source": [
        "exportamos los archivos a csv quitandole la posibilidad de crear otro indice para mantener el orden del df que creamos anteriormente para subirlo a la nube y proseguir con el proyecto."
      ]
    },
    {
      "cell_type": "code",
      "metadata": {
        "id": "JMnpnescvJ0D"
      },
      "source": [
        "df_lifestore_products.to_csv(\"lifestore_products.csv\",index = False)\n",
        "\n",
        "df_lifestore_sales.to_csv(\"lifestore_sales.csv\",index = False)\n",
        "\n",
        "df_lifestore_searches.to_csv(\"lifestore_searches.csv\",index = False)"
      ],
      "execution_count": 58,
      "outputs": []
    }
  ]
}